{
  "nbformat": 4,
  "nbformat_minor": 0,
  "metadata": {
    "colab": {
      "provenance": [],
      "authorship_tag": "ABX9TyPmLecfpSs81XS3suaK3hVH",
      "include_colab_link": true
    },
    "kernelspec": {
      "name": "python3",
      "display_name": "Python 3"
    },
    "language_info": {
      "name": "python"
    }
  },
  "cells": [
    {
      "cell_type": "markdown",
      "metadata": {
        "id": "view-in-github",
        "colab_type": "text"
      },
      "source": [
        "<a href=\"https://colab.research.google.com/github/Ayushi-0803/DIP-Labs/blob/main/Dip_lab2.ipynb\" target=\"_parent\"><img src=\"https://colab.research.google.com/assets/colab-badge.svg\" alt=\"Open In Colab\"/></a>"
      ]
    },
    {
      "cell_type": "code",
      "execution_count": 1,
      "metadata": {
        "id": "nX1GjnxP7AgZ"
      },
      "outputs": [],
      "source": [
        "from PIL import Image\n",
        "\n",
        "file = \"my_img.png\"\n",
        "img = Image.open(file)\n",
        "img.show()\n",
        "new_img = Image.new('RGB', img.size)\n",
        "for i in range(img.size[0]):\n",
        "    for j in range(img.size[1]):\n",
        "        pixelColorVals = img.getpixel((i, j))\n",
        "        redPixel = 255 - pixelColorVals[0]\n",
        "        greenPixel = 255 - pixelColorVals[1]\n",
        "        bluePixel = 255 - pixelColorVals[2]\n",
        "        new_img.putpixel((i, j), (redPixel, greenPixel, bluePixel))\n",
        "new_img.save(\"new_img.jpg\")\n",
        "new_img.show()\n",
        "\n",
        "\n",
        "\n"
      ]
    },
    {
      "cell_type": "code",
      "source": [
        "flipped_img= img.transpose(Image.FLIP_LEFT_RIGHT)\n",
        "flipped_img.show()\n",
        "flipped_img.save(\"flipped_img.jpg\")"
      ],
      "metadata": {
        "id": "ItnGnNl09Te5"
      },
      "execution_count": 2,
      "outputs": []
    },
    {
      "cell_type": "code",
      "source": [
        "for i in range(31, 255, 32):\n",
        "    threshold = i\n",
        "    thresholded_img = img.point(lambda x: 255 if x > threshold else 0)\n",
        "    save_filename = f\"img_{threshold}.jpg\"\n",
        "    thresholded_img.save(save_filename)"
      ],
      "metadata": {
        "id": "RMtEeSI3B_66"
      },
      "execution_count": 3,
      "outputs": []
    },
    {
      "cell_type": "code",
      "source": [
        "import matplotlib.pyplot as plt\n",
        "def red(intensity):\n",
        "  iI=intensity\n",
        "  minI=0\n",
        "  maxI=200\n",
        "  minO=0\n",
        "  maxO=255\n",
        "  iO=(iI-minI)*(((maxO-minO)/(maxI-minI))+minO)\n",
        "  return iO\n",
        "def green(intensity):\n",
        "  iI=intensity\n",
        "  minI=0\n",
        "  maxI=128\n",
        "  minO=0\n",
        "  maxO=255\n",
        "  iO=(iI-minI)*(((maxO-minO)/(maxI-minI))+minO)\n",
        "  return iO\n",
        "def blue(intensity):\n",
        "  iI=intensity\n",
        "  minI=0\n",
        "  maxI=80\n",
        "  minO=0\n",
        "  maxO=255\n",
        "  iO=(iI-minI)*(((maxO-minO)/(maxI-minI))+minO)\n",
        "  return iO\n",
        "imageObject     = Image.open(file)\n",
        "multiBands      = imageObject.split()\n",
        "normalizedRedBand      = multiBands[0].point(red)\n",
        "\n",
        "normalizedGreenBand    = multiBands[1].point(green)\n",
        "normalizedBlueBand     = multiBands[2].point(blue)\n",
        "normalizedImage = Image.merge(\"RGB\", (normalizedRedBand, normalizedGreenBand, normalizedBlueBand))\n",
        "normalizedImage.save(\"contrast_img.jpg\")\n",
        "# histogram_data = normalizedRedBand.histogram()\n",
        "# plt.plot(histogram_data, color='red')\n",
        "# plt.title(\"Histogram for Normalized Red Band\")\n",
        "# plt.xlabel(\"Pixel Intensity\")\n",
        "# plt.ylabel(\"Frequency\")\n",
        "# plt.show()\n",
        "\n",
        "# histogram_data = normalizedGreenBand.histogram()\n",
        "# plt.plot(histogram_data, color='green')\n",
        "# plt.title(\"Histogram for Intensity Range of Normalized Green Band\")\n",
        "# plt.xlabel(\"Pixel Intensity\")\n",
        "# plt.ylabel(\"Frequency\")\n",
        "# plt.show()\n",
        "\n",
        "# histogram_data = normalizedBlueBand.histogram()\n",
        "# plt.plot(histogram_data, color='blue')\n",
        "# plt.title(\"Histogram for Intensity Range of Normalized Blue Band\")\n",
        "# plt.xlabel(\"Pixel Intensity\")\n",
        "# plt.ylabel(\"Frequency\")\n",
        "# plt.show()\n",
        "\n",
        "\n"
      ],
      "metadata": {
        "id": "BUefQsJ6DqVZ"
      },
      "execution_count": 4,
      "outputs": []
    }
  ]
}
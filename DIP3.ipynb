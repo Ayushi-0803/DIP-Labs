{
  "nbformat": 4,
  "nbformat_minor": 0,
  "metadata": {
    "colab": {
      "provenance": [],
      "authorship_tag": "ABX9TyOHXr9sFakLE5kmqJ7TYuCe",
      "include_colab_link": true
    },
    "kernelspec": {
      "name": "python3",
      "display_name": "Python 3"
    },
    "language_info": {
      "name": "python"
    }
  },
  "cells": [
    {
      "cell_type": "markdown",
      "metadata": {
        "id": "view-in-github",
        "colab_type": "text"
      },
      "source": [
        "<a href=\"https://colab.research.google.com/github/Ayushi-0803/DIP-Labs/blob/main/DIP3.ipynb\" target=\"_parent\"><img src=\"https://colab.research.google.com/assets/colab-badge.svg\" alt=\"Open In Colab\"/></a>"
      ]
    },
    {
      "cell_type": "code",
      "execution_count": 5,
      "metadata": {
        "colab": {
          "base_uri": "https://localhost:8080/"
        },
        "id": "Vn7i4KSQAp6S",
        "outputId": "972a6698-e538-44b9-b688-64be43658328"
      },
      "outputs": [
        {
          "output_type": "stream",
          "name": "stdout",
          "text": [
            "Mean Value of the Image: [241.03758680555555, 240.14022569444444, 236.2981076388889]\n"
          ]
        }
      ],
      "source": [
        "from PIL import Image, ImageChops, ImageStat, ImageEnhance\n",
        "\n",
        "def add_images(image1_path, image2_path, output_path):\n",
        "    img1 = Image.open(image1_path)\n",
        "    img2 = Image.open(image2_path)\n",
        "\n",
        "    result = ImageChops.add(img1, img2)\n",
        "    result.save(output_path)\n",
        "\n",
        "\n",
        "def subtract_images(image1_path, image2_path, output_path):\n",
        "    img1 = Image.open(image1_path)\n",
        "    img2 = Image.open(image2_path)\n",
        "\n",
        "    result = ImageChops.subtract(img1, img2)\n",
        "    result.save(output_path)\n",
        "\n",
        "\n",
        "def calculate_mean_value(image_path):\n",
        "    img = Image.open(image_path)\n",
        "    stat = ImageStat.Stat(img)\n",
        "    mean_value = stat.mean\n",
        "    return mean_value\n",
        "\n",
        "\n",
        "def vary_brightness(image_path, brightness_factor, output_path):\n",
        "    img = Image.open(image_path)\n",
        "    enhanced_img = ImageEnhance.Brightness(img).enhance(brightness_factor)\n",
        "    enhanced_img.save(output_path)\n",
        "\n",
        "\n",
        "add_images( \"2nd.jpg\",\"img.jpg\", \"output1.jpg\")\n",
        "\n",
        "\n",
        "subtract_images(\"2nd.jpg\", \"img.jpg\", \"output_subtraction2.jpg\")\n",
        "\n",
        "\n",
        "mean_value = calculate_mean_value(\"img.jpg\")\n",
        "print(\"Mean Value of the Image:\", mean_value)\n",
        "\n",
        "\n",
        "vary_brightness(\"img.jpg\", 1.5, \"output_brightness1_variation.jpg\")"
      ]
    }
  ]
}